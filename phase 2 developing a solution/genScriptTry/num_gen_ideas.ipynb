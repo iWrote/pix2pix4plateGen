{
 "cells": [
  {
   "cell_type": "code",
   "execution_count": 5,
   "metadata": {},
   "outputs": [],
   "source": [
    "import torch\n",
    "import torchvision\n",
    "from torchvision import transforms, datasets, models\n",
    "from torchvision.utils import save_image, make_grid\n",
    "\n",
    "from torchviz import make_dot\n",
    "\n",
    "import torch.optim as optim\n",
    "\n",
    "\n",
    "import torch.nn as nn\n",
    "import torch.nn.functional as F\n",
    "\n",
    "import numpy as np\n",
    "import math\n",
    "\n",
    "\n",
    "import os \n",
    "import glob\n",
    "import time\n",
    "import cv2\n",
    "\n",
    "from tqdm.notebook import tqdm\n",
    "import pandas as pd\n",
    "import matplotlib.pyplot as plt\n",
    "\n",
    "import imageio\n",
    "from PIL import Image, ImageDraw, ImageFont\n",
    "import string"
   ]
  },
  {
   "cell_type": "code",
   "execution_count": 6,
   "metadata": {},
   "outputs": [],
   "source": [
    "if torch.cuda.is_available():\n",
    "    device = torch.device('cuda')\n",
    "else:\n",
    "    device = torch.device('cpu')"
   ]
  },
  {
   "cell_type": "code",
   "execution_count": 7,
   "metadata": {},
   "outputs": [
    {
     "data": {
      "text/plain": [
       "device(type='cuda')"
      ]
     },
     "execution_count": 7,
     "metadata": {},
     "output_type": "execute_result"
    }
   ],
   "source": [
    "device"
   ]
  },
  {
   "cell_type": "code",
   "execution_count": 8,
   "metadata": {},
   "outputs": [],
   "source": [
    "class Generator(nn.Module):\n",
    "    def __init__(self, in_channels, out_channels):\n",
    "        super(Generator, self).__init__()\n",
    "        \n",
    "           \n",
    "        #reduce to features\n",
    "        self.c0 = nn.Conv2d(in_channels, 64, 4, stride=2, padding=1)\n",
    "        self.c1 = nn.Conv2d(64, 128, 4, stride=2, padding=1)\n",
    "        self.c2 = nn.Conv2d(128, 256, 4, stride=2, padding=1)\n",
    "        self.c3 = nn.Conv2d(256, 512, 4, stride=2, padding=1)\n",
    "      \n",
    "        \n",
    "        #upsample to image\n",
    "        \n",
    "        self.d3 = nn.ConvTranspose2d(512, 256, 4, stride=2, padding=1)\n",
    "        self.d2 = nn.ConvTranspose2d(512, 128, 4, stride=2, padding=1)\n",
    "        self.d1 = nn.ConvTranspose2d(256, 64, 4, stride=2, padding=1)\n",
    "        self.d0 = nn.ConvTranspose2d(128, out_channels, 4, stride=2, padding=1)\n",
    "       \n",
    "        self.bnc1 = nn.BatchNorm2d(128)\n",
    "        self.bnc2 = nn.BatchNorm2d(256)\n",
    "        self.bnc3 = nn.BatchNorm2d(512)\n",
    "        \n",
    "\n",
    "      \n",
    "        self.bnd3 = nn.BatchNorm2d(256)\n",
    "        self.bnd2 = nn.BatchNorm2d(128)\n",
    "        self.bnd1 = nn.BatchNorm2d(64)\n",
    "        \n",
    "        \n",
    "    def forward(self, x):           \n",
    "                \n",
    "        en0 = self.c0(x)\n",
    "        en1 = self.bnc1(self.c1(F.leaky_relu(en0, negative_slope=0.2)))\n",
    "        en2 = self.bnc2(self.c2(F.leaky_relu(en1, negative_slope=0.2)))\n",
    "        en3 = self.bnc3(self.c3(F.leaky_relu(en2, negative_slope=0.2)))\n",
    "        \n",
    "        de3 = self.bnd3(self.d3(F.relu(en3)))\n",
    "        de2 = F.dropout(self.bnd2(self.d2(F.relu(torch.cat((en2, de3),1)))))\n",
    "        de1 = self.bnd1(self.d1(F.relu(torch.cat((en1, de2),1))))\n",
    "\n",
    "        de0 = torch.tanh(self.d0(F.relu(torch.cat((en0, de1),1))))\n",
    "\n",
    "        return de0\n"
   ]
  },
  {
   "cell_type": "code",
   "execution_count": 9,
   "metadata": {},
   "outputs": [
    {
     "data": {
      "text/plain": [
       "Generator(\n",
       "  (c0): Conv2d(1, 64, kernel_size=(4, 4), stride=(2, 2), padding=(1, 1))\n",
       "  (c1): Conv2d(64, 128, kernel_size=(4, 4), stride=(2, 2), padding=(1, 1))\n",
       "  (c2): Conv2d(128, 256, kernel_size=(4, 4), stride=(2, 2), padding=(1, 1))\n",
       "  (c3): Conv2d(256, 512, kernel_size=(4, 4), stride=(2, 2), padding=(1, 1))\n",
       "  (d3): ConvTranspose2d(512, 256, kernel_size=(4, 4), stride=(2, 2), padding=(1, 1))\n",
       "  (d2): ConvTranspose2d(512, 128, kernel_size=(4, 4), stride=(2, 2), padding=(1, 1))\n",
       "  (d1): ConvTranspose2d(256, 64, kernel_size=(4, 4), stride=(2, 2), padding=(1, 1))\n",
       "  (d0): ConvTranspose2d(128, 1, kernel_size=(4, 4), stride=(2, 2), padding=(1, 1))\n",
       "  (bnc1): BatchNorm2d(128, eps=1e-05, momentum=0.1, affine=True, track_running_stats=True)\n",
       "  (bnc2): BatchNorm2d(256, eps=1e-05, momentum=0.1, affine=True, track_running_stats=True)\n",
       "  (bnc3): BatchNorm2d(512, eps=1e-05, momentum=0.1, affine=True, track_running_stats=True)\n",
       "  (bnd3): BatchNorm2d(256, eps=1e-05, momentum=0.1, affine=True, track_running_stats=True)\n",
       "  (bnd2): BatchNorm2d(128, eps=1e-05, momentum=0.1, affine=True, track_running_stats=True)\n",
       "  (bnd1): BatchNorm2d(64, eps=1e-05, momentum=0.1, affine=True, track_running_stats=True)\n",
       ")"
      ]
     },
     "execution_count": 9,
     "metadata": {},
     "output_type": "execute_result"
    }
   ],
   "source": [
    "G = Generator(1,1).to(device)\n",
    "G.load_state_dict(torch.load('./trained_shader_state_dictionary.pth'))\n",
    "G.eval()"
   ]
  },
  {
   "cell_type": "code",
   "execution_count": 10,
   "metadata": {},
   "outputs": [
    {
     "data": {
      "text/plain": [
       "'\\nThe current format of the registration index consists of 4 parts, They are:\\n\\n    The first two letters indicate the State or Union Territory to which the vehicle is registered.\\n    The next two digit numbers are the sequential number of a district. Due to heavy volume of vehicle registration, the numbers were given to the RTO offices of registration as well.\\n    The third part consists of one, two or three letters or no letters at all. This shows the ongoing series of an RTO (Also as a counter of the number of vehicles registered) and/or vehicle classification\\n    The fourth part is a number from 1 to 9999, unique to each plate. A letter is prefixed when the 4 digit number runs out and then two letters and so on.\\n\\n\\n'"
      ]
     },
     "execution_count": 10,
     "metadata": {},
     "output_type": "execute_result"
    }
   ],
   "source": [
    "'''\n",
    "The current format of the registration index consists of 4 parts, They are:\n",
    "\n",
    "    The first two letters indicate the State or Union Territory to which the vehicle is registered.\n",
    "    The next two digit numbers are the sequential number of a district. Due to heavy volume of vehicle registration, the numbers were given to the RTO offices of registration as well.\n",
    "    The third part consists of one, two or three letters or no letters at all. This shows the ongoing series of an RTO (Also as a counter of the number of vehicles registered) and/or vehicle classification\n",
    "    The fourth part is a number from 1 to 9999, unique to each plate. A letter is prefixed when the 4 digit number runs out and then two letters and so on.\n",
    "\n",
    "\n",
    "'''"
   ]
  },
  {
   "cell_type": "code",
   "execution_count": 7,
   "metadata": {},
   "outputs": [
    {
     "name": "stdout",
     "output_type": "stream",
     "text": [
      "HR 28 OB 9860\n"
     ]
    }
   ],
   "source": [
    "### https://en.wikipedia.org/wiki/Vehicle_registration_plates_of_India#Unique_numbering\n",
    "#string gen\n",
    "\n",
    "STATE_CODES = ['AP', 'AR', 'AS', 'BR', 'CG', 'GA', 'GJ', 'HR', 'HP', 'JH', 'KA', 'KL', 'MP',\n",
    "              'MH', 'MN', 'ML', 'MZ', 'NL', 'OD', 'PB', 'RJ', 'SK', 'TN', 'TS', 'TR', 'UP',\n",
    "              'UK', 'WB', 'AN', 'CH', 'DD', 'DL', 'JK', 'LA', 'LD', 'PY', 'OR', 'UA']\n",
    "\n",
    "SECOND_CODE_MODES = [2, 0, 'S', 'C', 'E', 'P', 'R', 'T', 'V', 'Y'] #not using for now\n",
    "Letters = ['', 'Q','W','E']\n",
    "\n",
    "sc = np.random.choice(list(string.ascii_uppercase)) + np.random.choice(list(string.ascii_uppercase))\n",
    "\n",
    "#font spec lookup (try to find on the fly?)\n",
    "\n",
    "lp_str = np.random.choice(STATE_CODES) + \" \" + f\"{np.random.randint(100):02}\" + \" \" + sc + \" \" + f\"{np.random.randint(10000):04}\"\n",
    "print(lp_str)"
   ]
  },
  {
   "cell_type": "code",
   "execution_count": 8,
   "metadata": {},
   "outputs": [
    {
     "name": "stdout",
     "output_type": "stream",
     "text": [
      "11.5\n",
      "12.0\n",
      "18.0\n",
      "23.0\n",
      "28.0\n",
      "29.5\n",
      "34.5\n",
      "39.5\n",
      "46.0\n"
     ]
    },
    {
     "data": {
      "text/plain": [
       "(32, 128)"
      ]
     },
     "execution_count": 8,
     "metadata": {},
     "output_type": "execute_result"
    }
   ],
   "source": [
    "image = Image.new('RGB', (128, 32), color = (0,)*3)\n",
    "draw = ImageDraw.Draw(image)\n",
    "\n",
    "font_size = 2\n",
    "font_path = np.random.choice(glob.glob('./fonts/*.ttf'))\n",
    "font = ImageFont.truetype(font_path, font_size)\n",
    "while(font.getsize(lp_str)[0]/2 < 57 and font.getsize(lp_str)[1]/2 < 8): \n",
    "    font_size+=2\n",
    "    font = ImageFont.truetype(font_path, font_size)\n",
    "    print(font.getsize(lp_str)[0]/2)\n",
    "    \n",
    "\n",
    "draw.text((64 - font.getsize(lp_str)[0]/2, 16 - font.getsize(lp_str)[1]/2), lp_str, color=(255,)*3, font = font)\n",
    "image.save('image.png')\n",
    "image = cv2.imread('image.png', cv2.IMREAD_GRAYSCALE)\n",
    "image.shape\n"
   ]
  },
  {
   "cell_type": "code",
   "execution_count": 9,
   "metadata": {},
   "outputs": [],
   "source": [
    "y = image\n",
    "#y = cv2.bitwise_not(y)"
   ]
  },
  {
   "cell_type": "code",
   "execution_count": 10,
   "metadata": {},
   "outputs": [
    {
     "data": {
      "text/plain": [
       "<matplotlib.image.AxesImage at 0x29104d48808>"
      ]
     },
     "execution_count": 10,
     "metadata": {},
     "output_type": "execute_result"
    },
    {
     "data": {
      "image/png": "[encoded data removed]",
      "text/plain": [
       "<Figure size 432x288 with 1 Axes>"
      ]
     },
     "metadata": {
      "needs_background": "light"
     },
     "output_type": "display_data"
    }
   ],
   "source": [
    "plt.imshow(y, cmap = \"gray\")\n",
    "\n"
   ]
  },
  {
   "cell_type": "code",
   "execution_count": 11,
   "metadata": {},
   "outputs": [],
   "source": [
    "y = y.astype(np.float32)\n",
    "y = (y - 127.5)/127.5"
   ]
  },
  {
   "cell_type": "code",
   "execution_count": 12,
   "metadata": {},
   "outputs": [
    {
     "name": "stdout",
     "output_type": "stream",
     "text": [
      "torch.Size([1, 1, 32, 128])\n"
     ]
    }
   ],
   "source": [
    "y = torch.tensor(y).to(device)\n",
    "y = y.unsqueeze(0).unsqueeze(0)\n",
    "print(y.shape)\n",
    "\n",
    "out = G(y)\n",
    "out = out.squeeze(0).squeeze(0)\n",
    "out.shape\n",
    "out = cv2.blur((((out.detach().cpu().numpy() + 1)/2)*255).astype(np.uint8), (3,3))"
   ]
  },
  {
   "cell_type": "code",
   "execution_count": 13,
   "metadata": {},
   "outputs": [],
   "source": [
    "y=out\n",
    "random_jitter_matrix = np.array(([1.0 - np.random.uniform(0,0.1), 0, 0], [0, 1.0- np.random.uniform(0,0.1), 0], [0,0,1.0 - np.random.uniform(0,0.1)]))\n",
    "y = cv2.warpPerspective(y, random_jitter_matrix, dsize = (128, 32), borderValue = np.ones(3)*0)\n",
    "y = cv2.warpAffine(y, cv2.getRotationMatrix2D((16,64), np.random.uniform(-2, 2), 1), dsize=(128, 32))\n",
    "y = y+np.random.randint(10)\n"
   ]
  },
  {
   "cell_type": "code",
   "execution_count": 14,
   "metadata": {},
   "outputs": [
    {
     "data": {
      "text/plain": [
       "<matplotlib.image.AxesImage at 0x29104c09088>"
      ]
     },
     "execution_count": 14,
     "metadata": {},
     "output_type": "execute_result"
    },
    {
     "data": {
      "image/png": "[encoded data removed]",
      "text/plain": [
       "<Figure size 432x288 with 1 Axes>"
      ]
     },
     "metadata": {
      "needs_background": "light"
     },
     "output_type": "display_data"
    }
   ],
   "source": [
    "plt.imshow(y, cmap=\"gray\")"
   ]
  },
  {
   "cell_type": "code",
   "execution_count": 15,
   "metadata": {},
   "outputs": [],
   "source": [
    "imageio.imsave(lp_str+'.png', y)"
   ]
  },
  {
   "cell_type": "code",
   "execution_count": 15,
   "metadata": {},
   "outputs": [],
   "source": [
    "def make_plate_images(num, shader_path = './trained_shader_state_dictionary.pth', fonts_folder_path = './fonts'):\n",
    "    \n",
    "    \n",
    "    try:\n",
    "        os.mkdir('./generated_images')\n",
    "    except Exception as e:\n",
    "        print(e)\n",
    "        \n",
    "    #clearing image folder\n",
    "    files = glob.glob('./generated_images/*')\n",
    "    for file in files:\n",
    "        os.remove(file)\n",
    "    \n",
    "    STATE_CODES = [['AP',39], ['AR',22], ['AS', 30], ['BR',57], ['CG',30], ['GA',12], ['GJ',38], ['HR',99], ['HP', 97], ['JH',24], ['KA',70], ['KL',86], ['MP',74],\n",
    "              ['MH',50], ['MN',7], ['ML',10], ['MZ',8], ['NL',8], ['OD',35], ['PB',91], ['RJ',55], ['SK',4], ['TN',99], ['TS',36], ['TR',8], ['UP',96],\n",
    "              ['UK',20], ['WB',99], ['AN', 1], ['CH',4], ['DD', 3], ['DL',16], ['JK',22], ['LA',2], ['LD',9], ['PY',5]]\n",
    "    \n",
    "    \n",
    "\n",
    "    #SECOND_CODE_MODES = [2, 0, 'S', 'C', 'E', 'P', 'R', 'T', 'V', 'Y'] #not using for now\n",
    "    \n",
    "    for i in tqdm(range(num)):\n",
    "        \n",
    "        letters = np.random.choice(list(string.ascii_uppercase)) + np.random.choice(list(string.ascii_uppercase))\n",
    "        \n",
    "        state = STATE_CODES[np.random.randint(len(STATE_CODES))]\n",
    "        \n",
    "\n",
    "        lp_str = state[0] + \" \" + f\"{state[1]+1:02}\" + \" \" + letters + \" \" + f\"{np.random.randint(10000):04}\"\n",
    "\n",
    "        \n",
    "        \n",
    "        image = Image.new('RGB', (128, 32), color = (0,)*3)\n",
    "        draw = ImageDraw.Draw(image)      \n",
    "        \n",
    "        \n",
    "        font_size = 2\n",
    "        font_path = np.random.choice(glob.glob('./fonts/*.ttf'))\n",
    "        font = ImageFont.truetype(font_path, font_size)\n",
    "        while(font.getsize(lp_str)[0]/2 < 57 and font.getsize(lp_str)[1]/2 < 8): \n",
    "            font_size+=2\n",
    "            font = ImageFont.truetype(font_path, font_size)\n",
    "\n",
    "\n",
    "        draw.text((64 - font.getsize(lp_str)[0]/2, 16 - font.getsize(lp_str)[1]/2), lp_str, color=(255,)*3, font = font)\n",
    "        image.save('image.png')\n",
    "        image = cv2.imread('image.png', cv2.IMREAD_GRAYSCALE)\n",
    "\n",
    "        y = image\n",
    "        y = y.astype(np.float32)\n",
    "        y = (y - 127.5)/127.5\n",
    "        y = torch.tensor(y).to(device)\n",
    "        y = y.unsqueeze(0).unsqueeze(0)\n",
    "\n",
    "        out = G(y)\n",
    "        \n",
    "        out = out.squeeze(0).squeeze(0)\n",
    "        out.shape\n",
    "        out = cv2.blur((((out.detach().cpu().numpy() + 1)/2)*255).astype(np.uint8), (3,3))\n",
    "        y=out\n",
    "        random_jitter_matrix = np.array(([1.0 - np.random.uniform(0,0.1), 0, 0], [0, 1.0- np.random.uniform(0,0.1), 0], [0,0,1.0 - np.random.uniform(0,0.1)]))\n",
    "        y = cv2.warpPerspective(y, random_jitter_matrix, dsize = (128, 32), borderValue = np.ones(3)*0)\n",
    "        y = cv2.warpAffine(y, cv2.getRotationMatrix2D((16,64), np.random.uniform(-2, 2), 1), dsize=(128, 32))       \n",
    "        \n",
    "        \n",
    "        \n",
    "        imageio.imsave('./generated_images/' + lp_str +f\"__{i}\"+ '.png', y)"
   ]
  },
  {
   "cell_type": "code",
   "execution_count": 16,
   "metadata": {},
   "outputs": [
    {
     "name": "stdout",
     "output_type": "stream",
     "text": [
      "[WinError 183] Cannot create a file when that file already exists: './generated_images'\n"
     ]
    },
    {
     "data": {
      "application/vnd.jupyter.widget-view+json": {
       "model_id": "7a2536a79ace452393444cd9027ed5a3",
       "version_major": 2,
       "version_minor": 0
      },
      "text/plain": [
       "HBox(children=(IntProgress(value=0, max=10), HTML(value='')))"
      ]
     },
     "metadata": {},
     "output_type": "display_data"
    },
    {
     "name": "stdout",
     "output_type": "stream",
     "text": [
      "\n"
     ]
    }
   ],
   "source": [
    "make_plate_images(10)"
   ]
  },
  {
   "cell_type": "code",
   "execution_count": 17,
   "metadata": {},
   "outputs": [],
   "source": [
    "#Creating a GIF\n",
    "\n",
    "images = []\n",
    "j = 0\n",
    "for i in glob.glob(\"./generated_images/*\"):    \n",
    "    img = imageio.imread(i)\n",
    "    images.append(img)\n",
    "    j+=1\n",
    "    if(j>24):\n",
    "        break\n",
    "    \n",
    "\n",
    "imageio.mimwrite(\"samplels.gif\", images, fps = 5, loop = 0)    "
   ]
  }
 ],
 "metadata": {
  "kernelspec": {
   "display_name": "Python 3",
   "language": "python",
   "name": "python3"
  },
  "language_info": {
   "codemirror_mode": {
    "name": "ipython",
    "version": 3
   },
   "file_extension": ".py",
   "mimetype": "text/x-python",
   "name": "python",
   "nbconvert_exporter": "python",
   "pygments_lexer": "ipython3",
   "version": "3.7.4"
  }
 },
 "nbformat": 4,
 "nbformat_minor": 2
}
