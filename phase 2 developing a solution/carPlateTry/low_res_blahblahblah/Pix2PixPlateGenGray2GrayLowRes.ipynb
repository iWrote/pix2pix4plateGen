{
 "cells": [
  {
   "cell_type": "code",
   "execution_count": 1,
   "metadata": {},
   "outputs": [],
   "source": [
    "import torch\n",
    "import torchvision\n",
    "from torchvision import transforms, datasets, models\n",
    "from torchvision.utils import save_image, make_grid\n",
    "\n",
    "from torchviz import make_dot\n",
    "\n",
    "import torch.optim as optim\n",
    "\n",
    "\n",
    "import torch.nn as nn\n",
    "import torch.nn.functional as F\n",
    "\n",
    "import numpy as np\n",
    "import math\n",
    "\n",
    "\n",
    "import os \n",
    "import glob\n",
    "import time\n",
    "import cv2\n",
    "\n",
    "from tqdm.notebook import tqdm\n",
    "import pandas as pd\n",
    "import matplotlib.pyplot as plt\n",
    "\n",
    "import imageio\n",
    "\n",
    "import enum"
   ]
  },
  {
   "cell_type": "code",
   "execution_count": 2,
   "metadata": {},
   "outputs": [],
   "source": [
    "torch.cuda.is_available()\n",
    "device = torch.device(\"cuda\")"
   ]
  },
  {
   "cell_type": "code",
   "execution_count": 3,
   "metadata": {},
   "outputs": [],
   "source": [
    "#hyperparams & options\n",
    "\n",
    "EPOCHS = 10\n",
    "lrD = 0.0002\n",
    "lrG = 0.0002\n",
    "bs = 1  #https://github.com/junyanz/pytorch-CycleGAN-and-pix2pix/issues/27#issuecomment-346495489\n",
    "loss_fn = nn.BCELoss().to(device)\n",
    "loss_fn_img = nn.L1Loss().to(device)\n",
    "LAMBDA = 100\n",
    "\n",
    "labelSmoothingFactor = 0.08\n",
    "flip_labels = True\n",
    "training_set_size = 865 - 15\n",
    "\n",
    "CheckpointPeriod = 1 #save the model every <CheckpointPeriod> epochs\n",
    "\n"
   ]
  },
  {
   "cell_type": "code",
   "execution_count": 4,
   "metadata": {},
   "outputs": [],
   "source": [
    "class Dsk(nn.Module):\n",
    "    \n",
    "    def __init__(self, d=64):\n",
    "        super(Dsk, self).__init__()\n",
    "        \n",
    "        self.conv1 = nn.Conv2d(2, d, 4, 2, 1)\n",
    "        self.conv2 = nn.Conv2d(d, d * 2, 4, 2, 1)\n",
    "        self.conv2_bn = nn.BatchNorm2d(d * 2)\n",
    "        self.conv3 = nn.Conv2d(d * 2, d * 4, 4, 2, 1)\n",
    "        self.conv3_bn = nn.BatchNorm2d(d * 4)\n",
    "        self.conv4 = nn.Conv2d(d * 4, d * 8, 4, 1, 1)\n",
    "        self.conv4_bn = nn.BatchNorm2d(d * 8)\n",
    "        self.conv5 = nn.Conv2d(d * 8, 1, 4, 1, 1)\n",
    "        \n",
    "        \n",
    "        \n",
    "    def forward(self, x):\n",
    "        x = F.leaky_relu(self.conv1(x), 0.2)\n",
    "        x = F.leaky_relu(self.conv2_bn(self.conv2(x)), 0.2)\n",
    "        x = F.leaky_relu(self.conv3_bn(self.conv3(x)), 0.2)\n",
    "        x = F.leaky_relu(self.conv4_bn(self.conv4(x)), 0.2)\n",
    "        x = self.conv5(x)\n",
    "\n",
    "        return torch.sigmoid(x)\n",
    "    \n",
    "    "
   ]
  },
  {
   "cell_type": "code",
   "execution_count": 5,
   "metadata": {},
   "outputs": [],
   "source": [
    "class Generator(nn.Module):\n",
    "    def __init__(self, in_channels, out_channels):\n",
    "        super(Generator, self).__init__()\n",
    "        \n",
    "           \n",
    "        #reduce to features\n",
    "        self.c0 = nn.Conv2d(in_channels, 64, 4, stride=2, padding=1)\n",
    "        self.c1 = nn.Conv2d(64, 128, 4, stride=2, padding=1)\n",
    "        self.c2 = nn.Conv2d(128, 256, 4, stride=2, padding=1)\n",
    "        self.c3 = nn.Conv2d(256, 512, 4, stride=2, padding=1)\n",
    "      \n",
    "        \n",
    "        #upsample to image\n",
    "        \n",
    "        self.d3 = nn.ConvTranspose2d(512, 256, 4, stride=2, padding=1)\n",
    "        self.d2 = nn.ConvTranspose2d(512, 128, 4, stride=2, padding=1)\n",
    "        self.d1 = nn.ConvTranspose2d(256, 64, 4, stride=2, padding=1)\n",
    "        self.d0 = nn.ConvTranspose2d(128, out_channels, 4, stride=2, padding=1)\n",
    "       \n",
    "        self.bnc1 = nn.BatchNorm2d(128)\n",
    "        self.bnc2 = nn.BatchNorm2d(256)\n",
    "        self.bnc3 = nn.BatchNorm2d(512)\n",
    "        \n",
    "\n",
    "      \n",
    "        self.bnd3 = nn.BatchNorm2d(256)\n",
    "        self.bnd2 = nn.BatchNorm2d(128)\n",
    "        self.bnd1 = nn.BatchNorm2d(64)\n",
    "        \n",
    "        \n",
    "    def forward(self, x):           \n",
    "                \n",
    "        en0 = self.c0(x)\n",
    "        en1 = self.bnc1(self.c1(F.leaky_relu(en0, negative_slope=0.2)))\n",
    "        en2 = self.bnc2(self.c2(F.leaky_relu(en1, negative_slope=0.2)))\n",
    "        en3 = self.bnc3(self.c3(F.leaky_relu(en2, negative_slope=0.2)))\n",
    "        \n",
    "        de3 = self.bnd3(self.d3(F.relu(en3)))\n",
    "        de2 = F.dropout(self.bnd2(self.d2(F.relu(torch.cat((en2, de3),1)))))\n",
    "        de1 = self.bnd1(self.d1(F.relu(torch.cat((en1, de2),1))))\n",
    "\n",
    "        de0 = torch.tanh(self.d0(F.relu(torch.cat((en0, de1),1))))\n",
    "\n",
    "        return de0\n"
   ]
  },
  {
   "cell_type": "code",
   "execution_count": 6,
   "metadata": {},
   "outputs": [],
   "source": [
    "D = Dsk().to(device)\n",
    "optimizerD = optim.Adam(D.parameters(), lr=lrD)"
   ]
  },
  {
   "cell_type": "code",
   "execution_count": 7,
   "metadata": {},
   "outputs": [],
   "source": [
    "G = Generator(1,1).to(device)\n",
    "optimizerG = optim.Adam(G.parameters(), lr=lrG)"
   ]
  },
  {
   "cell_type": "code",
   "execution_count": 8,
   "metadata": {},
   "outputs": [
    {
     "data": {
      "text/plain": [
       "torch.Size([28])"
      ]
     },
     "execution_count": 8,
     "metadata": {},
     "output_type": "execute_result"
    }
   ],
   "source": [
    "torch.flatten(D(torch.ones(1,2,32,128).cuda().detach())).shape"
   ]
  },
  {
   "cell_type": "code",
   "execution_count": 9,
   "metadata": {},
   "outputs": [
    {
     "data": {
      "text/plain": [
       "\"\\n\\nG.load_state_dict(torch.load('G15.pth'))\\nD.load_state_dict(torch.load('D15.pth'))\\nG.eval()\\nD.eval()\\n\\n\""
      ]
     },
     "execution_count": 9,
     "metadata": {},
     "output_type": "execute_result"
    }
   ],
   "source": [
    "#LOAD STATE DICTs IF CONTINUING TRAINING\n",
    "\n",
    "'''\n",
    "\n",
    "G.load_state_dict(torch.load('G15.pth'))\n",
    "D.load_state_dict(torch.load('D15.pth'))\n",
    "G.eval()\n",
    "D.eval()\n",
    "\n",
    "'''"
   ]
  },
  {
   "cell_type": "code",
   "execution_count": 10,
   "metadata": {},
   "outputs": [
    {
     "name": "stdout",
     "output_type": "stream",
     "text": [
      "865\n"
     ]
    }
   ],
   "source": [
    "data = torch.tensor(np.load('cdac_data.npy')).float().to(device)\n",
    "print(len(data))\n",
    "#data is (N, outchannels + inchannels, height, width)"
   ]
  },
  {
   "cell_type": "code",
   "execution_count": 11,
   "metadata": {},
   "outputs": [
    {
     "data": {
      "text/plain": [
       "torch.Size([850, 1, 32, 128])"
      ]
     },
     "execution_count": 11,
     "metadata": {},
     "output_type": "execute_result"
    }
   ],
   "source": [
    "trainData = data[:training_set_size]\n",
    "testData = data[training_set_size:]\n",
    "testData.shape\n",
    "trainData[:,0,:,:].unsqueeze(1).shape"
   ]
  },
  {
   "cell_type": "code",
   "execution_count": 12,
   "metadata": {},
   "outputs": [
    {
     "name": "stdout",
     "output_type": "stream",
     "text": [
      "Mkdir failed. ./generated_images/. Reason: [WinError 183] Cannot create a file when that file already exists: './generated_images/'\n",
      "Mkdir failed. ./epochModelParamData/. Reason: [WinError 183] Cannot create a file when that file already exists: './epochModelParamData/'\n"
     ]
    },
    {
     "data": {
      "application/vnd.jupyter.widget-view+json": {
       "model_id": "a770c5c75acd44238deb425f22ccc308",
       "version_major": 2,
       "version_minor": 0
      },
      "text/plain": [
       "HBox(children=(IntProgress(value=0, max=10), HTML(value='')))"
      ]
     },
     "metadata": {},
     "output_type": "display_data"
    },
    {
     "data": {
      "application/vnd.jupyter.widget-view+json": {
       "model_id": "6f31a8cf833d46d1b31424e401d342f8",
       "version_major": 2,
       "version_minor": 0
      },
      "text/plain": [
       "HBox(children=(IntProgress(value=0, max=850), HTML(value='')))"
      ]
     },
     "metadata": {},
     "output_type": "display_data"
    },
    {
     "name": "stdout",
     "output_type": "stream",
     "text": [
      "\n"
     ]
    },
    {
     "data": {
      "application/vnd.jupyter.widget-view+json": {
       "model_id": "ebb79287ec22468d905f897055b0aa56",
       "version_major": 2,
       "version_minor": 0
      },
      "text/plain": [
       "HBox(children=(IntProgress(value=0, max=850), HTML(value='')))"
      ]
     },
     "metadata": {},
     "output_type": "display_data"
    },
    {
     "name": "stdout",
     "output_type": "stream",
     "text": [
      "\n"
     ]
    },
    {
     "data": {
      "application/vnd.jupyter.widget-view+json": {
       "model_id": "daaf1e3d95a74f5e97e979ecc0f921cd",
       "version_major": 2,
       "version_minor": 0
      },
      "text/plain": [
       "HBox(children=(IntProgress(value=0, max=850), HTML(value='')))"
      ]
     },
     "metadata": {},
     "output_type": "display_data"
    },
    {
     "name": "stdout",
     "output_type": "stream",
     "text": [
      "\n"
     ]
    },
    {
     "data": {
      "application/vnd.jupyter.widget-view+json": {
       "model_id": "37b9c41cb6a74e5fae89de94c2376dea",
       "version_major": 2,
       "version_minor": 0
      },
      "text/plain": [
       "HBox(children=(IntProgress(value=0, max=850), HTML(value='')))"
      ]
     },
     "metadata": {},
     "output_type": "display_data"
    },
    {
     "name": "stdout",
     "output_type": "stream",
     "text": [
      "\n"
     ]
    },
    {
     "data": {
      "application/vnd.jupyter.widget-view+json": {
       "model_id": "3ab3e275265d46c38a2687a254703d49",
       "version_major": 2,
       "version_minor": 0
      },
      "text/plain": [
       "HBox(children=(IntProgress(value=0, max=850), HTML(value='')))"
      ]
     },
     "metadata": {},
     "output_type": "display_data"
    },
    {
     "name": "stdout",
     "output_type": "stream",
     "text": [
      "\n"
     ]
    },
    {
     "data": {
      "application/vnd.jupyter.widget-view+json": {
       "model_id": "dcac1739bc89469fa4d8e8739e977e5b",
       "version_major": 2,
       "version_minor": 0
      },
      "text/plain": [
       "HBox(children=(IntProgress(value=0, max=850), HTML(value='')))"
      ]
     },
     "metadata": {},
     "output_type": "display_data"
    },
    {
     "name": "stdout",
     "output_type": "stream",
     "text": [
      "\n"
     ]
    },
    {
     "data": {
      "application/vnd.jupyter.widget-view+json": {
       "model_id": "9c7643ad906b442cb73677ec24e72235",
       "version_major": 2,
       "version_minor": 0
      },
      "text/plain": [
       "HBox(children=(IntProgress(value=0, max=850), HTML(value='')))"
      ]
     },
     "metadata": {},
     "output_type": "display_data"
    },
    {
     "name": "stdout",
     "output_type": "stream",
     "text": [
      "\n"
     ]
    },
    {
     "data": {
      "application/vnd.jupyter.widget-view+json": {
       "model_id": "15828d2ec06141c9b8e526f63895e4e1",
       "version_major": 2,
       "version_minor": 0
      },
      "text/plain": [
       "HBox(children=(IntProgress(value=0, max=850), HTML(value='')))"
      ]
     },
     "metadata": {},
     "output_type": "display_data"
    },
    {
     "name": "stdout",
     "output_type": "stream",
     "text": [
      "\n"
     ]
    },
    {
     "data": {
      "application/vnd.jupyter.widget-view+json": {
       "model_id": "d2f4d9e4a14643b68dc620c35dee3869",
       "version_major": 2,
       "version_minor": 0
      },
      "text/plain": [
       "HBox(children=(IntProgress(value=0, max=850), HTML(value='')))"
      ]
     },
     "metadata": {},
     "output_type": "display_data"
    },
    {
     "name": "stdout",
     "output_type": "stream",
     "text": [
      "\n"
     ]
    },
    {
     "data": {
      "application/vnd.jupyter.widget-view+json": {
       "model_id": "36793a992aa4423189e151507949955d",
       "version_major": 2,
       "version_minor": 0
      },
      "text/plain": [
       "HBox(children=(IntProgress(value=0, max=850), HTML(value='')))"
      ]
     },
     "metadata": {},
     "output_type": "display_data"
    },
    {
     "name": "stdout",
     "output_type": "stream",
     "text": [
      "\n",
      "\n"
     ]
    }
   ],
   "source": [
    "\n",
    "if(flip_labels):    \n",
    "    zeroLabel = torch.zeros(bs*28).to(device) + labelSmoothingFactor\n",
    "    oneLabel = torch.ones(bs*28).to(device) - labelSmoothingFactor\n",
    "else:\n",
    "    zeroLabel = torch.ones(bs*28).to(device) - labelSmoothingFactor\n",
    "    oneLabel = torch.zeros(bs*28).to(device) + labelSmoothingFactor\n",
    "\n",
    "\n",
    "with open(\"pix2pixPlateGenLog.log\", \"w\") as logfile:\n",
    "    \n",
    "    #creating image folder\n",
    "    try:\n",
    "        os.mkdir('./generated_images/')\n",
    "    \n",
    "    except Exception as e:\n",
    "        print('Mkdir failed. %s. Reason: %s' % ('./generated_images/', e))\n",
    "    \n",
    "    \n",
    "    #clearing image folder\n",
    "    files = glob.glob('./generated_images/*')\n",
    "    for file in files:\n",
    "        os.remove(file)\n",
    "        \n",
    "    #creating models folder\n",
    "    try:\n",
    "        os.mkdir('./epochModelParamData/')\n",
    "    \n",
    "    except Exception as e:\n",
    "        print('Mkdir failed. %s. Reason: %s' % ('./epochModelParamData/', e))\n",
    "    \n",
    "    #clearing models folder\n",
    "    files = glob.glob('./epochModelParamData/*')\n",
    "    for file in files:\n",
    "        os.remove(file)\n",
    "        \n",
    "    \n",
    "\n",
    "    #logfile csv header\n",
    "    logfile.write(f\"time,D_loss_real,D_loss_fake,G_loss,epoch\\n\")\n",
    "    \n",
    "    for epoch in tqdm(range(EPOCHS)):\n",
    "             \n",
    "        for i in tqdm(range(0, training_set_size, bs)):\n",
    "\n",
    "            batchOfRealPairs = trainData[i:i+bs]           #(bs, 2, 32, 128)\n",
    "            batchOfRealImgs = batchOfRealPairs[:,0,:,:].unsqueeze(1)   #(bs, 1, 32, 128)\n",
    "            batchOfOutlines = batchOfRealPairs[:,1,:,:].unsqueeze(1)   #(bs, 1, 32, 128)\n",
    "\n",
    "\n",
    "            D.zero_grad()\n",
    "            \n",
    "            D_real = torch.flatten(D(batchOfRealPairs))\n",
    "            D_loss_real = loss_fn(D_real, oneLabel)\n",
    "            D_loss_real.backward()\n",
    "\n",
    "            batchOfFakeImgs = G(batchOfOutlines)    #(bs, 1, 32, 128)\n",
    "            batchOfFakePairs = torch.cat((batchOfFakeImgs, batchOfOutlines), 1)  #(bs, 2, 32, 128)\n",
    "            D_fake = torch.flatten(D(batchOfFakePairs.detach()))  #https://github.com/pytorch/examples/issues/116\n",
    "            D_loss_fake = loss_fn(D_fake, zeroLabel) #bce(bs,28 & bs, 28)\n",
    "            D_loss_fake.backward()\n",
    "\n",
    "            optimizerD.step()\n",
    "\n",
    "\n",
    "            G.zero_grad()\n",
    "\n",
    "            D_fake = torch.flatten(D(batchOfFakePairs)) \n",
    "            G_loss = loss_fn(D_fake, oneLabel) + LAMBDA*loss_fn_img(batchOfFakeImgs, batchOfRealImgs)\n",
    "            G_loss.backward()\n",
    "\n",
    "            optimizerG.step()\n",
    "            \n",
    "            \n",
    "            #logging in a file and printing\n",
    "            logfile.write(f\"{round(time.time(), 4)},{round(D_loss_real.mean().item(), 3)},{round(D_loss_fake.mean().item(), 3)},{round(G_loss.mean().item(), 3)},{epoch}\\n\")\n",
    "            #print(f\"{round(time.time(), 4):15} | {round(D_loss_real.mean().item(), 3):5} | {round(D_loss_fake.mean().item(), 3):5} | {round(G_loss.mean().item(), 3):7} | {epoch:03} | {i}\\n\")\n",
    "            \n",
    "        \n",
    "        #save imagees generated from testset and save model state every epoch\n",
    "        epochImagePath = f\"./generated_images/{epoch}.png\"\n",
    "        with torch.no_grad():\n",
    "            generated_images = G(testData[:,1,:,:].unsqueeze(1))\n",
    "            image_pairs = torch.cat((testData[:,1,:,:].unsqueeze(1), generated_images), 3)\n",
    "            image_pairs = make_grid(image_pairs, nrow = 5)\n",
    "            u = image_pairs.cpu().numpy().astype(np.float32)\n",
    "            u = np.rint(((u + 1)/2)*255).astype(np.uint8)\n",
    "            u = u.transpose(1,2,0)\n",
    "            imageio.imwrite(epochImagePath, u)\n",
    "            if(epoch%CheckpointPeriod == 0): #state dictionarys are crazy large\n",
    "                torch.save(D.state_dict(), f\"./epochModelParamData/D{epoch}.pth\")\n",
    "                torch.save(G.state_dict(), f\"./epochModelParamData/G{epoch}.pth\")\n",
    "            \n",
    "        "
   ]
  },
  {
   "cell_type": "code",
   "execution_count": 13,
   "metadata": {},
   "outputs": [],
   "source": [
    "#Creating a GIF\n",
    "\n",
    "images = []\n",
    "j = 0\n",
    "for i in glob.glob(\"./generated_images/*\"):    \n",
    "    img = imageio.imread(i)\n",
    "    #cv2.putText(image, text, org, font, fontScale, color[, thickness[, lineType[, bottomLeftOrigin]]])\n",
    "    img = cv2.putText(img, str(j), (50, 50), cv2.FONT_HERSHEY_SIMPLEX, 1, (255,255,0), 2, cv2.LINE_AA)\n",
    "    images.append(img)\n",
    "    j+=1\n",
    "    \n",
    "\n",
    "imageio.mimwrite(\"epochs.gif\", images, fps = 60, loop = 0)    "
   ]
  },
  {
   "cell_type": "code",
   "execution_count": 21,
   "metadata": {},
   "outputs": [],
   "source": [
    "%matplotlib qt"
   ]
  },
  {
   "cell_type": "code",
   "execution_count": 66,
   "metadata": {},
   "outputs": [
    {
     "name": "stdout",
     "output_type": "stream",
     "text": [
      "torch.Size([1, 1, 32, 128])\n"
     ]
    }
   ],
   "source": [
    "\n",
    "\n",
    "netG = Generator(1,1).to(device)\n",
    "netG.load_state_dict(torch.load('./epochModelParamData\\G3.pth'))\n",
    "\n",
    "pug = cv2.imread('./ThePugTest.png', cv2.IMREAD_GRAYSCALE)\n",
    "pug = pug.astype(np.float32)\n",
    "pug = pug/127.5 - 1 \n",
    "pug = torch.tensor(pug).to(device)\n",
    "pug = pug.unsqueeze(0).unsqueeze(0)\n",
    "print(pug.shape)\n",
    "\n",
    "pug_plate_of_truth = netG(pug)\n",
    "\n",
    "pug_plate_of_truth = pug_plate_of_truth.squeeze(0).squeeze(0)\n",
    "pug = pug.squeeze(0).squeeze(0)\n",
    "pug_plate = torch.cat((pug,pug_plate_of_truth),1)\n",
    "pug_plate = pug_plate.cpu().detach().numpy()\n",
    "\n",
    "pug_plate = (pug_plate + 1)/2 *255\n",
    "pug_plate = pug_plate.astype(np.uint8)\n",
    "\n",
    "\n",
    "pug_plate = cv2.blur(pug_plate, (2,2))\n",
    "plt.imshow(pug_plate, cmap=\"gray\")\n",
    "\n",
    "imageio.imwrite('pug_plate.png', pug_plate)\n",
    "\n"
   ]
  },
  {
   "cell_type": "code",
   "execution_count": 67,
   "metadata": {},
   "outputs": [
    {
     "data": {
      "text/plain": [
       "<matplotlib.axes._subplots.AxesSubplot at 0x1d852246108>"
      ]
     },
     "execution_count": 67,
     "metadata": {},
     "output_type": "execute_result"
    },
    {
     "data": {
      "image/png": "[encoded data removed]",
      "text/plain": [
       "<Figure size 432x288 with 1 Axes>"
      ]
     },
     "metadata": {
      "needs_background": "light"
     },
     "output_type": "display_data"
    }
   ],
   "source": [
    "%matplotlib inline\n",
    "df = pd.read_csv('pix2pixPlateGenLog.log')\n",
    "df.rolling(window = 800)['G_loss'].mean().plot()"
   ]
  },
  {
   "cell_type": "code",
   "execution_count": 17,
   "metadata": {},
   "outputs": [
    {
     "name": "stdout",
     "output_type": "stream",
     "text": [
      "Help on function imwrite in module imageio.core.functions:\n",
      "\n",
      "imwrite(uri, im, format=None, **kwargs)\n",
      "    imwrite(uri, im, format=None, **kwargs)\n",
      "    \n",
      "    Write an image to the specified file.\n",
      "    \n",
      "    Parameters\n",
      "    ----------\n",
      "    uri : {str, pathlib.Path, file}\n",
      "        The resource to write the image to, e.g. a filename, pathlib.Path\n",
      "        or file object, see the docs for more info.\n",
      "    im : numpy.ndarray\n",
      "        The image data. Must be NxM, NxMx3 or NxMx4.\n",
      "    format : str\n",
      "        The format to use to read the file. By default imageio selects\n",
      "        the appropriate for you based on the filename and its contents.\n",
      "    kwargs : ...\n",
      "        Further keyword arguments are passed to the writer. See :func:`.help`\n",
      "        to see what arguments are available for a particular format.\n",
      "\n"
     ]
    }
   ],
   "source": [
    "help(imageio.imwrite)"
   ]
  }
 ],
 "metadata": {
  "kernelspec": {
   "display_name": "Python 3",
   "language": "python",
   "name": "python3"
  },
  "language_info": {
   "codemirror_mode": {
    "name": "ipython",
    "version": 3
   },
   "file_extension": ".py",
   "mimetype": "text/x-python",
   "name": "python",
   "nbconvert_exporter": "python",
   "pygments_lexer": "ipython3",
   "version": "3.7.4"
  }
 },
 "nbformat": 4,
 "nbformat_minor": 4
}
